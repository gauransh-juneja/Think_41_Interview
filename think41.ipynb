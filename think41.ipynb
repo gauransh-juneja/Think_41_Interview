{
  "nbformat": 4,
  "nbformat_minor": 0,
  "metadata": {
    "colab": {
      "provenance": []
    },
    "kernelspec": {
      "name": "python3",
      "display_name": "Python 3"
    },
    "language_info": {
      "name": "python"
    }
  },
  "cells": [
    {
      "cell_type": "code",
      "execution_count": 1,
      "metadata": {
        "colab": {
          "base_uri": "https://localhost:8080/",
          "height": 73
        },
        "id": "iuD_i1f54PSa",
        "outputId": "2ec3f2fa-7b76-4038-e3c8-9f60ae234d48"
      },
      "outputs": [
        {
          "output_type": "display_data",
          "data": {
            "text/plain": [
              "<IPython.core.display.HTML object>"
            ],
            "text/html": [
              "\n",
              "     <input type=\"file\" id=\"files-f1523310-d346-4105-a425-5ec6268eb5ed\" name=\"files[]\" multiple disabled\n",
              "        style=\"border:none\" />\n",
              "     <output id=\"result-f1523310-d346-4105-a425-5ec6268eb5ed\">\n",
              "      Upload widget is only available when the cell has been executed in the\n",
              "      current browser session. Please rerun this cell to enable.\n",
              "      </output>\n",
              "      <script>// Copyright 2017 Google LLC\n",
              "//\n",
              "// Licensed under the Apache License, Version 2.0 (the \"License\");\n",
              "// you may not use this file except in compliance with the License.\n",
              "// You may obtain a copy of the License at\n",
              "//\n",
              "//      http://www.apache.org/licenses/LICENSE-2.0\n",
              "//\n",
              "// Unless required by applicable law or agreed to in writing, software\n",
              "// distributed under the License is distributed on an \"AS IS\" BASIS,\n",
              "// WITHOUT WARRANTIES OR CONDITIONS OF ANY KIND, either express or implied.\n",
              "// See the License for the specific language governing permissions and\n",
              "// limitations under the License.\n",
              "\n",
              "/**\n",
              " * @fileoverview Helpers for google.colab Python module.\n",
              " */\n",
              "(function(scope) {\n",
              "function span(text, styleAttributes = {}) {\n",
              "  const element = document.createElement('span');\n",
              "  element.textContent = text;\n",
              "  for (const key of Object.keys(styleAttributes)) {\n",
              "    element.style[key] = styleAttributes[key];\n",
              "  }\n",
              "  return element;\n",
              "}\n",
              "\n",
              "// Max number of bytes which will be uploaded at a time.\n",
              "const MAX_PAYLOAD_SIZE = 100 * 1024;\n",
              "\n",
              "function _uploadFiles(inputId, outputId) {\n",
              "  const steps = uploadFilesStep(inputId, outputId);\n",
              "  const outputElement = document.getElementById(outputId);\n",
              "  // Cache steps on the outputElement to make it available for the next call\n",
              "  // to uploadFilesContinue from Python.\n",
              "  outputElement.steps = steps;\n",
              "\n",
              "  return _uploadFilesContinue(outputId);\n",
              "}\n",
              "\n",
              "// This is roughly an async generator (not supported in the browser yet),\n",
              "// where there are multiple asynchronous steps and the Python side is going\n",
              "// to poll for completion of each step.\n",
              "// This uses a Promise to block the python side on completion of each step,\n",
              "// then passes the result of the previous step as the input to the next step.\n",
              "function _uploadFilesContinue(outputId) {\n",
              "  const outputElement = document.getElementById(outputId);\n",
              "  const steps = outputElement.steps;\n",
              "\n",
              "  const next = steps.next(outputElement.lastPromiseValue);\n",
              "  return Promise.resolve(next.value.promise).then((value) => {\n",
              "    // Cache the last promise value to make it available to the next\n",
              "    // step of the generator.\n",
              "    outputElement.lastPromiseValue = value;\n",
              "    return next.value.response;\n",
              "  });\n",
              "}\n",
              "\n",
              "/**\n",
              " * Generator function which is called between each async step of the upload\n",
              " * process.\n",
              " * @param {string} inputId Element ID of the input file picker element.\n",
              " * @param {string} outputId Element ID of the output display.\n",
              " * @return {!Iterable<!Object>} Iterable of next steps.\n",
              " */\n",
              "function* uploadFilesStep(inputId, outputId) {\n",
              "  const inputElement = document.getElementById(inputId);\n",
              "  inputElement.disabled = false;\n",
              "\n",
              "  const outputElement = document.getElementById(outputId);\n",
              "  outputElement.innerHTML = '';\n",
              "\n",
              "  const pickedPromise = new Promise((resolve) => {\n",
              "    inputElement.addEventListener('change', (e) => {\n",
              "      resolve(e.target.files);\n",
              "    });\n",
              "  });\n",
              "\n",
              "  const cancel = document.createElement('button');\n",
              "  inputElement.parentElement.appendChild(cancel);\n",
              "  cancel.textContent = 'Cancel upload';\n",
              "  const cancelPromise = new Promise((resolve) => {\n",
              "    cancel.onclick = () => {\n",
              "      resolve(null);\n",
              "    };\n",
              "  });\n",
              "\n",
              "  // Wait for the user to pick the files.\n",
              "  const files = yield {\n",
              "    promise: Promise.race([pickedPromise, cancelPromise]),\n",
              "    response: {\n",
              "      action: 'starting',\n",
              "    }\n",
              "  };\n",
              "\n",
              "  cancel.remove();\n",
              "\n",
              "  // Disable the input element since further picks are not allowed.\n",
              "  inputElement.disabled = true;\n",
              "\n",
              "  if (!files) {\n",
              "    return {\n",
              "      response: {\n",
              "        action: 'complete',\n",
              "      }\n",
              "    };\n",
              "  }\n",
              "\n",
              "  for (const file of files) {\n",
              "    const li = document.createElement('li');\n",
              "    li.append(span(file.name, {fontWeight: 'bold'}));\n",
              "    li.append(span(\n",
              "        `(${file.type || 'n/a'}) - ${file.size} bytes, ` +\n",
              "        `last modified: ${\n",
              "            file.lastModifiedDate ? file.lastModifiedDate.toLocaleDateString() :\n",
              "                                    'n/a'} - `));\n",
              "    const percent = span('0% done');\n",
              "    li.appendChild(percent);\n",
              "\n",
              "    outputElement.appendChild(li);\n",
              "\n",
              "    const fileDataPromise = new Promise((resolve) => {\n",
              "      const reader = new FileReader();\n",
              "      reader.onload = (e) => {\n",
              "        resolve(e.target.result);\n",
              "      };\n",
              "      reader.readAsArrayBuffer(file);\n",
              "    });\n",
              "    // Wait for the data to be ready.\n",
              "    let fileData = yield {\n",
              "      promise: fileDataPromise,\n",
              "      response: {\n",
              "        action: 'continue',\n",
              "      }\n",
              "    };\n",
              "\n",
              "    // Use a chunked sending to avoid message size limits. See b/62115660.\n",
              "    let position = 0;\n",
              "    do {\n",
              "      const length = Math.min(fileData.byteLength - position, MAX_PAYLOAD_SIZE);\n",
              "      const chunk = new Uint8Array(fileData, position, length);\n",
              "      position += length;\n",
              "\n",
              "      const base64 = btoa(String.fromCharCode.apply(null, chunk));\n",
              "      yield {\n",
              "        response: {\n",
              "          action: 'append',\n",
              "          file: file.name,\n",
              "          data: base64,\n",
              "        },\n",
              "      };\n",
              "\n",
              "      let percentDone = fileData.byteLength === 0 ?\n",
              "          100 :\n",
              "          Math.round((position / fileData.byteLength) * 100);\n",
              "      percent.textContent = `${percentDone}% done`;\n",
              "\n",
              "    } while (position < fileData.byteLength);\n",
              "  }\n",
              "\n",
              "  // All done.\n",
              "  yield {\n",
              "    response: {\n",
              "      action: 'complete',\n",
              "    }\n",
              "  };\n",
              "}\n",
              "\n",
              "scope.google = scope.google || {};\n",
              "scope.google.colab = scope.google.colab || {};\n",
              "scope.google.colab._files = {\n",
              "  _uploadFiles,\n",
              "  _uploadFilesContinue,\n",
              "};\n",
              "})(self);\n",
              "</script> "
            ]
          },
          "metadata": {}
        },
        {
          "output_type": "stream",
          "name": "stdout",
          "text": [
            "Saving products.csv to products (1).csv\n"
          ]
        }
      ],
      "source": [
        "from google.colab import files\n",
        "uploaded = files.upload()\n"
      ]
    },
    {
      "cell_type": "code",
      "source": [
        "import pandas as pd\n",
        "df = pd.read_csv('products.csv')\n",
        "print(df.head())\n",
        "print(df.columns)\n",
        "print(df.dtypes)"
      ],
      "metadata": {
        "colab": {
          "base_uri": "https://localhost:8080/"
        },
        "id": "-x8MS7Sy4dYp",
        "outputId": "37cac483-e6e2-4f30-bf43-fa4425447041"
      },
      "execution_count": 2,
      "outputs": [
        {
          "output_type": "stream",
          "name": "stdout",
          "text": [
            "      id     cost     category  \\\n",
            "0  13842  2.51875  Accessories   \n",
            "1  13928  2.33835  Accessories   \n",
            "2  14115  4.87956  Accessories   \n",
            "3  14157  4.64877  Accessories   \n",
            "4  14273  6.50793  Accessories   \n",
            "\n",
            "                                                name brand  retail_price  \\\n",
            "0   Low Profile Dyed Cotton Twill Cap - Navy W39S55D    MG          6.25   \n",
            "1  Low Profile Dyed Cotton Twill Cap - Putty W39S55D    MG          5.95   \n",
            "2       Enzyme Regular Solid Army Caps-Black W35S45D    MG         10.99   \n",
            "3  Enzyme Regular Solid Army Caps-Olive W35S45D (...    MG         10.99   \n",
            "4              Washed Canvas Ivy Cap - Black W11S64C    MG         15.99   \n",
            "\n",
            "  department                               sku  distribution_center_id  \n",
            "0      Women  EBD58B8A3F1D72F4206201DA62FB1204                       1  \n",
            "1      Women  2EAC42424D12436BDD6A5B8A88480CC3                       1  \n",
            "2      Women  EE364229B2791D1EF9355708EFF0BA34                       1  \n",
            "3      Women  00BD13095D06C20B11A2993CA419D16B                       1  \n",
            "4      Women  F531DC20FDE20B7ADF3A73F52B71D0AF                       1  \n",
            "Index(['id', 'cost', 'category', 'name', 'brand', 'retail_price', 'department',\n",
            "       'sku', 'distribution_center_id'],\n",
            "      dtype='object')\n",
            "id                          int64\n",
            "cost                      float64\n",
            "category                   object\n",
            "name                       object\n",
            "brand                      object\n",
            "retail_price              float64\n",
            "department                 object\n",
            "sku                        object\n",
            "distribution_center_id      int64\n",
            "dtype: object\n"
          ]
        }
      ]
    },
    {
      "cell_type": "code",
      "source": [
        "import pandas as pd\n",
        "import sqlite3\n",
        "\n",
        "df=pd.read_csv('products.csv')\n",
        "conn = sqlite3.connect('products.db')\n",
        "df.to_sql('products', conn, if_exists='replace', index=False)\n",
        "cursor=conn.cursor()\n",
        "cursor.execute(\"SELECT * FROM products LIMIT 5;\")\n",
        "rows=cursor.fetchall()\n",
        "for row in rows:\n",
        "  print(row)\n",
        "conn.close()"
      ],
      "metadata": {
        "colab": {
          "base_uri": "https://localhost:8080/"
        },
        "id": "PMSOnGZ55Z-5",
        "outputId": "a202c53f-39ee-40e2-8883-2522704915b6"
      },
      "execution_count": 3,
      "outputs": [
        {
          "output_type": "stream",
          "name": "stdout",
          "text": [
            "(13842, 2.518749990849756, 'Accessories', 'Low Profile Dyed Cotton Twill Cap - Navy W39S55D', 'MG', 6.25, 'Women', 'EBD58B8A3F1D72F4206201DA62FB1204', 1)\n",
            "(13928, 2.3383499148894105, 'Accessories', 'Low Profile Dyed Cotton Twill Cap - Putty W39S55D', 'MG', 5.949999809265137, 'Women', '2EAC42424D12436BDD6A5B8A88480CC3', 1)\n",
            "(14115, 4.879559879379869, 'Accessories', 'Enzyme Regular Solid Army Caps-Black W35S45D', 'MG', 10.989999771118164, 'Women', 'EE364229B2791D1EF9355708EFF0BA34', 1)\n",
            "(14157, 4.648769887297898, 'Accessories', 'Enzyme Regular Solid Army Caps-Olive W35S45D (One Size)', 'MG', 10.989999771118164, 'Women', '00BD13095D06C20B11A2993CA419D16B', 1)\n",
            "(14273, 6.507929886473045, 'Accessories', 'Washed Canvas Ivy Cap - Black W11S64C', 'MG', 15.989999771118164, 'Women', 'F531DC20FDE20B7ADF3A73F52B71D0AF', 1)\n"
          ]
        }
      ]
    },
    {
      "cell_type": "code",
      "source": [
        "from google.colab import files\n",
        "files.download('products.db')"
      ],
      "metadata": {
        "colab": {
          "base_uri": "https://localhost:8080/",
          "height": 17
        },
        "id": "XcC1gDCT6wog",
        "outputId": "4c0125bd-74bf-4ef0-8f68-9683706f46e4"
      },
      "execution_count": 4,
      "outputs": [
        {
          "output_type": "display_data",
          "data": {
            "text/plain": [
              "<IPython.core.display.Javascript object>"
            ],
            "application/javascript": [
              "\n",
              "    async function download(id, filename, size) {\n",
              "      if (!google.colab.kernel.accessAllowed) {\n",
              "        return;\n",
              "      }\n",
              "      const div = document.createElement('div');\n",
              "      const label = document.createElement('label');\n",
              "      label.textContent = `Downloading \"${filename}\": `;\n",
              "      div.appendChild(label);\n",
              "      const progress = document.createElement('progress');\n",
              "      progress.max = size;\n",
              "      div.appendChild(progress);\n",
              "      document.body.appendChild(div);\n",
              "\n",
              "      const buffers = [];\n",
              "      let downloaded = 0;\n",
              "\n",
              "      const channel = await google.colab.kernel.comms.open(id);\n",
              "      // Send a message to notify the kernel that we're ready.\n",
              "      channel.send({})\n",
              "\n",
              "      for await (const message of channel.messages) {\n",
              "        // Send a message to notify the kernel that we're ready.\n",
              "        channel.send({})\n",
              "        if (message.buffers) {\n",
              "          for (const buffer of message.buffers) {\n",
              "            buffers.push(buffer);\n",
              "            downloaded += buffer.byteLength;\n",
              "            progress.value = downloaded;\n",
              "          }\n",
              "        }\n",
              "      }\n",
              "      const blob = new Blob(buffers, {type: 'application/binary'});\n",
              "      const a = document.createElement('a');\n",
              "      a.href = window.URL.createObjectURL(blob);\n",
              "      a.download = filename;\n",
              "      div.appendChild(a);\n",
              "      a.click();\n",
              "      div.remove();\n",
              "    }\n",
              "  "
            ]
          },
          "metadata": {}
        },
        {
          "output_type": "display_data",
          "data": {
            "text/plain": [
              "<IPython.core.display.Javascript object>"
            ],
            "application/javascript": [
              "download(\"download_d87b7bb9-a520-4fda-b952-157c4479a83b\", \"products.db\", 4108288)"
            ]
          },
          "metadata": {}
        }
      ]
    },
    {
      "cell_type": "code",
      "source": [
        "import sqlite3\n",
        "conn=sqlite3.connect('products.db')\n",
        "cursor = conn.cursor()\n",
        "\n",
        "cursor.execute(\"SELECT * FROM products LIMIT 5;\")\n",
        "rows = cursor.fetchall()\n",
        "for row in rows:\n",
        "  print(row)\n",
        "conn.close()"
      ],
      "metadata": {
        "colab": {
          "base_uri": "https://localhost:8080/"
        },
        "id": "byD2Qo1X670T",
        "outputId": "95dff90a-ee1c-43d7-c201-dba92a7bac70"
      },
      "execution_count": 5,
      "outputs": [
        {
          "output_type": "stream",
          "name": "stdout",
          "text": [
            "(13842, 2.518749990849756, 'Accessories', 'Low Profile Dyed Cotton Twill Cap - Navy W39S55D', 'MG', 6.25, 'Women', 'EBD58B8A3F1D72F4206201DA62FB1204', 1)\n",
            "(13928, 2.3383499148894105, 'Accessories', 'Low Profile Dyed Cotton Twill Cap - Putty W39S55D', 'MG', 5.949999809265137, 'Women', '2EAC42424D12436BDD6A5B8A88480CC3', 1)\n",
            "(14115, 4.879559879379869, 'Accessories', 'Enzyme Regular Solid Army Caps-Black W35S45D', 'MG', 10.989999771118164, 'Women', 'EE364229B2791D1EF9355708EFF0BA34', 1)\n",
            "(14157, 4.648769887297898, 'Accessories', 'Enzyme Regular Solid Army Caps-Olive W35S45D (One Size)', 'MG', 10.989999771118164, 'Women', '00BD13095D06C20B11A2993CA419D16B', 1)\n",
            "(14273, 6.507929886473045, 'Accessories', 'Washed Canvas Ivy Cap - Black W11S64C', 'MG', 15.989999771118164, 'Women', 'F531DC20FDE20B7ADF3A73F52B71D0AF', 1)\n"
          ]
        }
      ]
    },
    {
      "cell_type": "markdown",
      "source": [
        "## **MILESTONE 2**"
      ],
      "metadata": {
        "id": "O67z2Uvl98Ax"
      }
    },
    {
      "cell_type": "code",
      "source": [
        "!pip install flask\n",
        "!pip install pyngrok\n"
      ],
      "metadata": {
        "colab": {
          "base_uri": "https://localhost:8080/"
        },
        "id": "S2L7Vbm79HjE",
        "outputId": "068f3ecd-5e7e-43d9-cbee-2aa94d6761bf"
      },
      "execution_count": 6,
      "outputs": [
        {
          "output_type": "stream",
          "name": "stdout",
          "text": [
            "Requirement already satisfied: flask in /usr/local/lib/python3.11/dist-packages (3.1.1)\n",
            "Requirement already satisfied: blinker>=1.9.0 in /usr/local/lib/python3.11/dist-packages (from flask) (1.9.0)\n",
            "Requirement already satisfied: click>=8.1.3 in /usr/local/lib/python3.11/dist-packages (from flask) (8.2.1)\n",
            "Requirement already satisfied: itsdangerous>=2.2.0 in /usr/local/lib/python3.11/dist-packages (from flask) (2.2.0)\n",
            "Requirement already satisfied: jinja2>=3.1.2 in /usr/local/lib/python3.11/dist-packages (from flask) (3.1.6)\n",
            "Requirement already satisfied: markupsafe>=2.1.1 in /usr/local/lib/python3.11/dist-packages (from flask) (3.0.2)\n",
            "Requirement already satisfied: werkzeug>=3.1.0 in /usr/local/lib/python3.11/dist-packages (from flask) (3.1.3)\n",
            "Requirement already satisfied: pyngrok in /usr/local/lib/python3.11/dist-packages (7.2.12)\n",
            "Requirement already satisfied: PyYAML>=5.1 in /usr/local/lib/python3.11/dist-packages (from pyngrok) (6.0.2)\n"
          ]
        }
      ]
    },
    {
      "cell_type": "code",
      "source": [
        "!pip install pyngrok\n",
        "from pyngrok import ngrok\n",
        "\n",
        "# Set your ngrok authtoken here\n",
        "ngrok.set_auth_token(\"30czM28t1f7YLuns2Pd3Lft5LxT_6PdGiSCZgsYNdy63nqfdq\")\n"
      ],
      "metadata": {
        "colab": {
          "base_uri": "https://localhost:8080/"
        },
        "id": "Yud742a0ERGG",
        "outputId": "210a7519-8f7d-4331-9123-a78ed6aed01e"
      },
      "execution_count": 7,
      "outputs": [
        {
          "output_type": "stream",
          "name": "stdout",
          "text": [
            "Requirement already satisfied: pyngrok in /usr/local/lib/python3.11/dist-packages (7.2.12)\n",
            "Requirement already satisfied: PyYAML>=5.1 in /usr/local/lib/python3.11/dist-packages (from pyngrok) (6.0.2)\n"
          ]
        }
      ]
    },
    {
      "cell_type": "code",
      "source": [
        "from flask import Flask, jsonify\n",
        "from pyngrok import ngrok\n",
        "import threading\n",
        "\n",
        "app = Flask(__name__)\n",
        "\n",
        "# Sample product data\n",
        "products = [\n",
        "    {\"id\": 1, \"name\": \"Product A\", \"price\": 10},\n",
        "    {\"id\": 2, \"name\": \"Product B\", \"price\": 20},\n",
        "    {\"id\": 3, \"name\": \"Product C\", \"price\": 30},\n",
        "]\n",
        "\n",
        "@app.route('/api/products', methods=['GET'])\n",
        "def get_all_products():\n",
        "    return jsonify(products)\n",
        "\n",
        "@app.route('/api/products/<int:product_id>', methods=['GET'])\n",
        "def get_product_by_id(product_id):\n",
        "    for product in products:\n",
        "        if product['id'] == product_id:\n",
        "            return jsonify(product)\n",
        "    return jsonify({\"error\": \"Product not found\"}), 404\n",
        "\n",
        "# Start the Flask app in a separate thread\n",
        "def run():\n",
        "    app.run()\n",
        "\n",
        "threading.Thread(target=run).start()\n",
        "\n",
        "# Get the public URL from ngrok\n",
        "public_url = ngrok.connect(5000)\n",
        "print(\"Your public API is live at:\", public_url)\n"
      ],
      "metadata": {
        "colab": {
          "base_uri": "https://localhost:8080/"
        },
        "id": "Em3tfj7REdO7",
        "outputId": "774365e7-2db4-4abf-b99b-ed5f065a06d6"
      },
      "execution_count": 8,
      "outputs": [
        {
          "output_type": "stream",
          "name": "stdout",
          "text": [
            " * Serving Flask app '__main__'\n",
            " * Debug mode: off\n"
          ]
        },
        {
          "output_type": "stream",
          "name": "stderr",
          "text": [
            "INFO:werkzeug:\u001b[31m\u001b[1mWARNING: This is a development server. Do not use it in a production deployment. Use a production WSGI server instead.\u001b[0m\n",
            " * Running on http://127.0.0.1:5000\n",
            "INFO:werkzeug:\u001b[33mPress CTRL+C to quit\u001b[0m\n"
          ]
        },
        {
          "output_type": "stream",
          "name": "stdout",
          "text": [
            "Your public API is live at: NgrokTunnel: \"https://768785476b04.ngrok-free.app\" -> \"http://localhost:5000\"\n"
          ]
        }
      ]
    },
    {
      "cell_type": "code",
      "source": [
        "from flask import Flask, jsonify\n",
        "from pyngrok import ngrok\n",
        "import sqlite3\n",
        "import threading\n",
        "\n",
        "app= Flask(__name__)\n",
        "DB_PATH ='product.db'\n",
        "\n",
        "def get_db_connection():\n",
        "  conn =sqlite3.connect(DB_PATH)\n",
        "  conn.row_factory = sqlite3.Row\n",
        "  return conn\n",
        "\n",
        "@app.route('/api/products', methods=['GET'])\n",
        "def get_products():\n",
        "  conn = get_db_connection()\n",
        "  cursor = conn.cursor()\n",
        "  cursor.execute(\"SELECT * FROM products\")\n",
        "  rows = cursor.fetchall()\n",
        "  conn.close()\n",
        "  products = [dict(row) for row in rows]\n",
        "  return jsonify(products),200\n",
        "\n",
        "@app.route('/api/products<int:product_id>', methods=['GET'])\n",
        "def get_product_by_id(product_id):\n",
        "  conn = get_db_connection()\n",
        "  cursor = conn.cursor()\n",
        "  cursor.execute(\"SELECT * FROM products WHERE id=?\",(product_id))\n",
        "  rows = cursor.fetchone()\n",
        "  conn.close()\n",
        "  if row:\n",
        "    return jsonify(dict(row)),200\n",
        "  else:\n",
        "    return jsonify({'error':'product not found'}),404\n",
        "\n",
        "def run_app():\n",
        "  app.run(port=5001)\n",
        "threading.Thread(target=run_app).start()\n",
        "\n",
        "public_url = ngrok.connect(5001)\n",
        "print(\"Your API is live at:\",public_url)"
      ],
      "metadata": {
        "colab": {
          "base_uri": "https://localhost:8080/"
        },
        "id": "nMNai1BzBOzI",
        "outputId": "4c1a8460-218a-45c6-bbe1-88e68784b020"
      },
      "execution_count": 9,
      "outputs": [
        {
          "output_type": "stream",
          "name": "stdout",
          "text": [
            " * Serving Flask app '__main__'\n",
            " * Debug mode: off\n"
          ]
        },
        {
          "output_type": "stream",
          "name": "stderr",
          "text": [
            "INFO:werkzeug:\u001b[31m\u001b[1mWARNING: This is a development server. Do not use it in a production deployment. Use a production WSGI server instead.\u001b[0m\n",
            " * Running on http://127.0.0.1:5001\n",
            "INFO:werkzeug:\u001b[33mPress CTRL+C to quit\u001b[0m\n"
          ]
        },
        {
          "output_type": "stream",
          "name": "stdout",
          "text": [
            "Your API is live at: NgrokTunnel: \"https://bcdbaee2ce99.ngrok-free.app\" -> \"http://localhost:5001\"\n"
          ]
        }
      ]
    }
  ]
}