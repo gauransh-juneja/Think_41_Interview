{
 "cells": [
  {
   "cell_type": "code",
   "execution_count": 3,
   "id": "c2e2e5df",
   "metadata": {},
   "outputs": [
    {
     "ename": "NameError",
     "evalue": "name 'headers' is not defined",
     "output_type": "error",
     "traceback": [
      "\u001b[31m---------------------------------------------------------------------------\u001b[39m",
      "\u001b[31mNameError\u001b[39m                                 Traceback (most recent call last)",
      "\u001b[36mCell\u001b[39m\u001b[36m \u001b[39m\u001b[32mIn[3]\u001b[39m\u001b[32m, line 6\u001b[39m\n\u001b[32m      4\u001b[39m reader = csv.reader(csvfile)\n\u001b[32m      5\u001b[39m header = \u001b[38;5;28mnext\u001b[39m(reader)\n\u001b[32m----> \u001b[39m\u001b[32m6\u001b[39m \u001b[38;5;28mprint\u001b[39m(\u001b[33m\"\u001b[39m\u001b[33mheader:\u001b[39m\u001b[33m\"\u001b[39m,\u001b[43mheaders\u001b[49m)\n\u001b[32m      8\u001b[39m \u001b[38;5;28;01mfor\u001b[39;00m i, row \u001b[38;5;129;01min\u001b[39;00m \u001b[38;5;28menumerate\u001b[39m(reader):\n\u001b[32m      9\u001b[39m     \u001b[38;5;28mprint\u001b[39m (row)\n",
      "\u001b[31mNameError\u001b[39m: name 'headers' is not defined"
     ]
    }
   ],
   "source": [
    "import csv\n",
    "\n",
    "with open ('products.csv', newline='',encoding='utf-8') as csvfile:\n",
    "    reader = csv.reader(csvfile)\n",
    "    header = next(reader)\n",
    "    print(\"header:\",headers)\n",
    "\n",
    "    for i, row in enumerate(reader):\n",
    "        print (row)\n",
    "        if i==4:\n",
    "            break"
   ]
  }
 ],
 "metadata": {
  "kernelspec": {
   "display_name": "Python 3",
   "language": "python",
   "name": "python3"
  },
  "language_info": {
   "codemirror_mode": {
    "name": "ipython",
    "version": 3
   },
   "file_extension": ".py",
   "mimetype": "text/x-python",
   "name": "python",
   "nbconvert_exporter": "python",
   "pygments_lexer": "ipython3",
   "version": "3.13.5"
  }
 },
 "nbformat": 4,
 "nbformat_minor": 5
}
